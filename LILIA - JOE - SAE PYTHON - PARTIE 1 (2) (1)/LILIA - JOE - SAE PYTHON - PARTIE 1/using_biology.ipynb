{
 "cells": [
  {
   "cell_type": "markdown",
   "id": "exterior-stanley",
   "metadata": {},
   "source": [
    "# Notebook de présentation de la SAE S01.02"
   ]
  },
  {
   "cell_type": "markdown",
   "id": "iraqi-watson",
   "metadata": {},
   "source": [
    "# Partie 1\n",
    "\n",
    "### Binôme :\n",
    "#### Joe Botseke & Lilia Mahrez\n"
   ]
  },
  {
   "cell_type": "markdown",
   "id": "paperback-gilbert",
   "metadata": {},
   "source": [
    "### Question 1"
   ]
  },
  {
   "cell_type": "code",
   "execution_count": 1,
   "id": "supreme-transparency",
   "metadata": {},
   "outputs": [],
   "source": [
    "# Proposition de réponse 1\n",
    "def est_base(char): \n",
    "    \n",
    "    \"\"\"\n",
    "    Retourne `True` si ce caractère correspond à une base de l'ADN (est un des caractères `A`, `T`, `G`, `C`), \n",
    "    et `False` sinon. \n",
    "    \n",
    "    \"\"\"\n",
    "    if char in [\"A\", \"T\", \"G\", \"C\"]: \n",
    "        return True \n",
    "    else:\n",
    "        return False\n"
   ]
  },
  {
   "cell_type": "code",
   "execution_count": 13,
   "id": "perfect-rental",
   "metadata": {},
   "outputs": [],
   "source": [
    "# Proposition de réponse 2\n",
    "def est_base(char): \n",
    "    tab = [\"A\", \"T\", \"G\", \"C\"]\n",
    "    i = 0\n",
    "    while i < len(tab): \n",
    "        if char == tab[i]: \n",
    "            return True\n",
    "        i += 1\n",
    "    \n",
    "    return False"
   ]
  },
  {
   "cell_type": "code",
   "execution_count": 35,
   "id": "grave-symbol",
   "metadata": {},
   "outputs": [
    {
     "name": "stdout",
     "output_type": "stream",
     "text": [
      "test ok\n"
     ]
    }
   ],
   "source": [
    "# Tests unitaires \n",
    "\n",
    "def test_est_base(): \n",
    "    assert est_base(\"A\") == True\n",
    "    assert est_base(\"T\") == True\n",
    "    assert est_base(\"G\") == True\n",
    "    assert est_base(\"C\") == True #le programme retourne True parce que C se trouve dans la liste.\n",
    "    assert est_base(\"U\") == False\n",
    "    assert est_base(\"a\") == False\n",
    "    assert est_base(\"t\") == False\n",
    "    assert est_base(\"g\") == False\n",
    "    assert est_base(\"c\") == False\n",
    "    assert est_base(\"z\") == False\n",
    "    assert est_base(\"b\") == False\n",
    "    print(\"test ok\")\n",
    "    \n",
    "test_est_base()    "
   ]
  },
  {
   "cell_type": "markdown",
   "id": "august-caution",
   "metadata": {},
   "source": [
    "### Question 2"
   ]
  },
  {
   "cell_type": "code",
   "execution_count": 29,
   "id": "billion-pride",
   "metadata": {},
   "outputs": [],
   "source": [
    "def est_adn(chaine):\n",
    "    \n",
    "    \"\"\"\n",
    "     Retourne`True` si la chaîne correspond à un ADN (est constituée uniquement des caractères `A`, `T`, `G`, `C`),\n",
    "     et `False` sinon.\n",
    "     \n",
    "    \"\"\"\n",
    "    i = 0\n",
    "    while i < len(chaine): \n",
    "        if est_base(chaine[i]) == False: \n",
    "            return False\n",
    "        i += 1\n",
    "        \n",
    "    return True\n"
   ]
  },
  {
   "cell_type": "code",
   "execution_count": 30,
   "id": "racial-taiwan",
   "metadata": {},
   "outputs": [
    {
     "name": "stdout",
     "output_type": "stream",
     "text": [
      "test ok\n"
     ]
    }
   ],
   "source": [
    "# Tests unitaires \n",
    "def test_est_adn(): \n",
    "    assert est_adn(\"ATGTCAAA\") == True\n",
    "    assert est_adn(\"AGCCATTC\") == True\n",
    "    assert est_adn(\"GGGAACT\") == True\n",
    "    assert est_adn(\"ATBOAATG\") == False\n",
    "    assert est_adn(\"AACUTG\") == False\n",
    "    assert est_adn(\"AZEGGC\") == False\n",
    "    assert est_adn(\"AGU\") == False\n",
    "    assert est_adn(\"ACCTG\") == True    \n",
    "    print(\"test ok\")\n",
    "    \n",
    "test_est_adn()"
   ]
  },
  {
   "cell_type": "markdown",
   "id": "turkish-referral",
   "metadata": {},
   "source": [
    "### Question 3"
   ]
  },
  {
   "cell_type": "code",
   "execution_count": 17,
   "id": "cognitive-portfolio",
   "metadata": {},
   "outputs": [],
   "source": [
    "def arn(adn): \n",
    "    \n",
    "    \"\"\"\n",
    "    Retourne la séquence ARN associée à une séquence d'ADN.\n",
    "    \n",
    "    \"\"\"\n",
    "    \n",
    "    if est_adn(adn) == False: \n",
    "        return None\n",
    "    \n",
    "    i = 0\n",
    "    s = \"\"\n",
    "    while i < len(adn): \n",
    "        if adn[i] == \"T\": \n",
    "            s += \"U\"\n",
    "        else: \n",
    "            s += adn[i]\n",
    "        i += 1\n",
    "            \n",
    "    return s"
   ]
  },
  {
   "cell_type": "code",
   "execution_count": 18,
   "id": "thirty-billy",
   "metadata": {},
   "outputs": [
    {
     "name": "stdout",
     "output_type": "stream",
     "text": [
      "test ok\n"
     ]
    }
   ],
   "source": [
    "# Tests unitaires \n",
    "def test_arn():\n",
    "    assert arn(\"ATGTCAAA\") == \"AUGUCAAA\"\n",
    "    assert arn(\"GCTAAUUA\") == None\n",
    "    assert arn(\"GCTAATTA\") == \"GCUAAUUA\"\n",
    "    assert arn(\"BEIGGCCTTA\") == None\n",
    "    assert arn(\"ATCGGCAA\") == \"AUCGGCAA\"   \n",
    "    print(\"test ok\")\n",
    "    \n",
    "test_arn()"
   ]
  },
  {
   "cell_type": "markdown",
   "id": "favorite-swing",
   "metadata": {},
   "source": [
    "### Question 4"
   ]
  },
  {
   "cell_type": "code",
   "execution_count": 19,
   "id": "violent-canada",
   "metadata": {},
   "outputs": [],
   "source": [
    "def arn_to_codons(arn): \n",
    "    \n",
    "    \"\"\"\n",
    "    Retourne un tableau contenant la liste des codons.\n",
    "    \n",
    "    \"\"\"\n",
    "    i = 0\n",
    "    s = \"\"\n",
    "    codons = []\n",
    "    while i < len(arn): \n",
    "        s += arn[i]\n",
    "        if len(s)%3 == 0: \n",
    "            codons.append(s)\n",
    "            s = \"\"\n",
    "        i += 1\n",
    "        \n",
    "    return codons       "
   ]
  },
  {
   "cell_type": "code",
   "execution_count": 20,
   "id": "decent-treasury",
   "metadata": {
    "scrolled": true
   },
   "outputs": [
    {
     "name": "stdout",
     "output_type": "stream",
     "text": [
      "test ok\n"
     ]
    }
   ],
   "source": [
    "# Tests unitaires \n",
    "def test_arn_to_codons(): \n",
    "    assert arn_to_codons(\"CGUUAGGGG\") == [\"CGU\", \"UAG\", \"GGG\"]\n",
    "    assert arn_to_codons(\"CGUAAU\") == [\"CGU\", \"AAU\"]\n",
    "    assert arn_to_codons(\"CGUAAUGC\") == [\"CGU\", \"AAU\"]\n",
    "    assert arn_to_codons(\"GCCAGCCUAGC\") == [\"GCC\", \"AGC\", \"CUA\"]\n",
    "    print(\"test ok\")\n",
    "    \n",
    "test_arn_to_codons()"
   ]
  },
  {
   "cell_type": "markdown",
   "id": "removable-wholesale",
   "metadata": {},
   "source": [
    "### Question 5"
   ]
  },
  {
   "cell_type": "code",
   "execution_count": 11,
   "id": "responsible-dollar",
   "metadata": {},
   "outputs": [],
   "source": [
    "from json import *"
   ]
  },
  {
   "cell_type": "code",
   "execution_count": 27,
   "id": "wound-nickel",
   "metadata": {},
   "outputs": [],
   "source": [
    "def load_dico_codons_aa(fichier): \n",
    "    \n",
    "    \"\"\"\n",
    "    Retourne la structure de données chargée en mémoire à partir du JSON.\n",
    "    \n",
    "    \"\"\"\n",
    "    strjson = fichier.read()\n",
    "    fichier.close()\n",
    "    dic = loads(strjson)\n",
    "    \n",
    "    return dic"
   ]
  },
  {
   "cell_type": "code",
   "execution_count": 22,
   "id": "controlled-gathering",
   "metadata": {},
   "outputs": [
    {
     "name": "stdout",
     "output_type": "stream",
     "text": [
      "test ok\n"
     ]
    }
   ],
   "source": [
    "# Tests unitaires \n",
    "def test_load_dico_codons_aa(): \n",
    "    \n",
    "    print(\"test ok\")\n",
    "    \n",
    "test_load_dico_codons_aa()"
   ]
  },
  {
   "cell_type": "code",
   "execution_count": 23,
   "id": "thorough-milwaukee",
   "metadata": {},
   "outputs": [],
   "source": [
    "def codons_stop(dic):\n",
    "    \n",
    "    \"\"\"\n",
    "    Retourne un tableau contenant l'ensemble des codons stop, \n",
    "    c'est-à-dire l'ensemble des codons possibles avec les caractères `AUGC` qui ne sont pas des clés du dictionnaire.\n",
    "\n",
    "    \"\"\"\n",
    "    codons = dic.keys()\n",
    "    \n",
    "    fichier = open (\"./data/codons_aa.json\",\"r\")\n",
    "    liste_codons = load_dico_codons_aa(fichier)\n",
    "    \n",
    "    codons_stop = []\n",
    "    \n",
    "    i = 0 \n",
    "    while i < len(codons): \n",
    "        j = 0\n",
    "        while j < len(liste_codons) and codons[i] != liste_codons[j]: \n",
    "            j += 1\n",
    "        if j == len(liste_codons): \n",
    "            stop.append(codons[i])\n",
    "        i += 1\n",
    "        \n",
    "    \n",
    "    return codons_stop"
   ]
  },
  {
   "cell_type": "code",
   "execution_count": 15,
   "id": "clear-pepper",
   "metadata": {},
   "outputs": [
    {
     "name": "stdout",
     "output_type": "stream",
     "text": [
      "test ok\n"
     ]
    }
   ],
   "source": [
    "# Tests unitaires \n",
    "def test_codons_stop(): \n",
    "    dic = {\n",
    "        \"UAA\": \"ocre\",\n",
    "        \"CGA\": \"Arginine\",\n",
    "        \"CGG\": \"Arginine\",\n",
    "        \"AGU\": \"Serine\",\n",
    "        \"AGC\": \"Serine\",\n",
    "        \"UAG\": \"ambre\",\n",
    "        \"UGA\": \"opale\",\n",
    "        \"GGU\": \"Glycine\",\n",
    "        \"GGC\": \"Glycine\"\n",
    "    }\n",
    "    assert codons_stop(dic) == [\"UAA\", \"UAG\", \"UGA\"]\n",
    "    print(\"test ok\")\n",
    "    \n",
    "\n",
    "test_codons_stop()"
   ]
  },
  {
   "cell_type": "markdown",
   "id": "phantom-comparative",
   "metadata": {},
   "source": [
    "### Question 6"
   ]
  },
  {
   "cell_type": "code",
   "execution_count": 32,
   "id": "talented-seven",
   "metadata": {},
   "outputs": [],
   "source": [
    "def codons_to_aa(tab_codons, dic_codons): \n",
    "    \n",
    "    \"\"\"\n",
    "    Retourne un tableau contenant les acides aminés correspondant aux codons.\n",
    "    \n",
    "    \"\"\"\n",
    "    tab_codons_stop = codons_stop(dic_codons)\n",
    "    tab_ret = []\n",
    "    \n",
    "    i = 0\n",
    "    while i < len(tab_codons): \n",
    "        j = 0\n",
    "        while j < len(tab_codons_stop) and tab_codons[i] != tab_codons_stop[j]:\n",
    "            j += 1\n",
    "        if j == len(tab_codons_stop): \n",
    "            tab_ret.append(dic_codons[tab_codons[i]])\n",
    "        else:\n",
    "            return tab_ret\n",
    "        i += 1\n",
    "        \n",
    "    return tab_ret\n"
   ]
  },
  {
   "cell_type": "code",
   "execution_count": null,
   "id": "35f99cab",
   "metadata": {},
   "outputs": [],
   "source": [
    "def test_codons_to_aa(): \n",
    "    fichier = open(\"./data/codons_aa.json\",\"r\")\n",
    "    codons = load_dico_codons_aa(fichier)\n",
    "    \n",
    "    assert codons_to_aa([\"CGU\", \"AAU\", \"UAA\", \"GGG\", \"CGU\"], codons) == [\"Arginine\", \"Asparagine\"]\n",
    "    print(\"test ok\")\n",
    "    \n",
    "test_codons_to_aa()    "
   ]
  },
  {
   "cell_type": "code",
   "execution_count": null,
   "id": "367b8e84",
   "metadata": {},
   "outputs": [],
   "source": []
  },
  {
   "cell_type": "code",
   "execution_count": null,
   "id": "0e12a365",
   "metadata": {},
   "outputs": [],
   "source": []
  }
 ],
 "metadata": {
  "kernelspec": {
   "display_name": "Python 3",
   "language": "python",
   "name": "python3"
  },
  "language_info": {
   "codemirror_mode": {
    "name": "ipython",
    "version": 3
   },
   "file_extension": ".py",
   "mimetype": "text/x-python",
   "name": "python",
   "nbconvert_exporter": "python",
   "pygments_lexer": "ipython3",
   "version": "3.8.8"
  }
 },
 "nbformat": 4,
 "nbformat_minor": 5
}
